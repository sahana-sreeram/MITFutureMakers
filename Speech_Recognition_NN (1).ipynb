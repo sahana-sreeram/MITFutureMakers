{
 "cells": [
  {
   "cell_type": "code",
   "execution_count": null,
   "metadata": {},
   "outputs": [],
   "source": [
    "'''\n",
    "    Code and trained model from: https://github.com/MITESHPUTHRANNEU/Speech-Emotion-Analyzer\n",
    "    Mitesh Puthran\n",
    "'''"
   ]
  },
  {
   "cell_type": "code",
   "execution_count": 15,
   "metadata": {},
   "outputs": [
    {
     "name": "stdout",
     "output_type": "stream",
     "text": [
      "* recording\n",
      "* done recording\n"
     ]
    }
   ],
   "source": [
    "#libraries\n",
    "import pyaudio\n",
    "import wave\n",
    "\n",
    "CHUNK = 1024 \n",
    "FORMAT = pyaudio.paInt16 #paInt8\n",
    "CHANNELS = 2 \n",
    "RATE = 44100 #sample rate\n",
    "RECORD_SECONDS = 4\n",
    "WAVE_OUTPUT_FILENAME = \"output10.wav\"\n",
    "\n",
    "p = pyaudio.PyAudio()\n",
    "\n",
    "stream = p.open(format=FORMAT,\n",
    "                channels=CHANNELS,\n",
    "                rate=RATE,\n",
    "                input=True,\n",
    "                frames_per_buffer=CHUNK) #buffer\n",
    "\n",
    "print(\"* recording\")\n",
    "\n",
    "frames = []\n",
    "\n",
    "#get raw data from recording\n",
    "for i in range(0, int(RATE / CHUNK * RECORD_SECONDS)):\n",
    "    data = stream.read(CHUNK)\n",
    "    frames.append(data) # 2 bytes(16 bits) per channel\n",
    "\n",
    "print(\"* done recording\")\n",
    "\n",
    "stream.stop_stream()\n",
    "stream.close()\n",
    "p.terminate()\n",
    "\n",
    "#save\n",
    "wf = wave.open(WAVE_OUTPUT_FILENAME, 'wb')\n",
    "wf.setnchannels(CHANNELS)\n",
    "wf.setsampwidth(p.get_sample_size(FORMAT))\n",
    "wf.setframerate(RATE)\n",
    "wf.writeframes(b''.join(frames))\n",
    "wf.close()"
   ]
  },
  {
   "cell_type": "code",
   "execution_count": 16,
   "metadata": {},
   "outputs": [
    {
     "data": {
      "text/plain": [
       "<matplotlib.collections.PolyCollection at 0x7fbe2a1a8a90>"
      ]
     },
     "execution_count": 16,
     "metadata": {},
     "output_type": "execute_result"
    },
    {
     "data": {
      "image/png": "[encoded data removed]",
      "text/plain": [
       "<Figure size 1080x360 with 1 Axes>"
      ]
     },
     "metadata": {
      "needs_background": "light"
     },
     "output_type": "display_data"
    }
   ],
   "source": [
    "#plot wav with MPL\n",
    "import librosa\n",
    "from librosa.display import waveplot\n",
    "import matplotlib.pyplot as plt\n",
    "\n",
    "data, sampling_rate = librosa.load('output10.wav')\n",
    "\n",
    "\n",
    "import os\n",
    "import pandas as pd\n",
    "import librosa\n",
    "import glob \n",
    "\n",
    "plt.figure(figsize=(15, 5))\n",
    "waveplot(data, sr=sampling_rate)"
   ]
  },
  {
   "cell_type": "code",
   "execution_count": 17,
   "metadata": {},
   "outputs": [],
   "source": [
    "import numpy as np\n",
    "\n",
    "#load the recording\n",
    "X, sample_rate = librosa.load('output10.wav', res_type='kaiser_fast',duration=2.5,sr=22050*2,offset=0.5)\n",
    "sample_rate = np.array(sample_rate)\n",
    "mfccs = np.mean(librosa.feature.mfcc(y=X, sr=sample_rate, n_mfcc=13),axis=0)\n",
    "featurelive = mfccs\n",
    "#feature column\n",
    "livedf2 = featurelive"
   ]
  },
  {
   "cell_type": "code",
   "execution_count": 18,
   "metadata": {},
   "outputs": [
    {
     "data": {
      "text/html": [
       "<div>\n",
       "<style scoped>\n",
       "    .dataframe tbody tr th:only-of-type {\n",
       "        vertical-align: middle;\n",
       "    }\n",
       "\n",
       "    .dataframe tbody tr th {\n",
       "        vertical-align: top;\n",
       "    }\n",
       "\n",
       "    .dataframe thead th {\n",
       "        text-align: right;\n",
       "    }\n",
       "</style>\n",
       "<table border=\"1\" class=\"dataframe\">\n",
       "  <thead>\n",
       "    <tr style=\"text-align: right;\">\n",
       "      <th></th>\n",
       "      <th>0</th>\n",
       "    </tr>\n",
       "  </thead>\n",
       "  <tbody>\n",
       "    <tr>\n",
       "      <th>0</th>\n",
       "      <td>-37.543262</td>\n",
       "    </tr>\n",
       "    <tr>\n",
       "      <th>1</th>\n",
       "      <td>-36.223270</td>\n",
       "    </tr>\n",
       "    <tr>\n",
       "      <th>2</th>\n",
       "      <td>-36.245003</td>\n",
       "    </tr>\n",
       "    <tr>\n",
       "      <th>3</th>\n",
       "      <td>-35.871239</td>\n",
       "    </tr>\n",
       "    <tr>\n",
       "      <th>4</th>\n",
       "      <td>-38.073673</td>\n",
       "    </tr>\n",
       "    <tr>\n",
       "      <th>...</th>\n",
       "      <td>...</td>\n",
       "    </tr>\n",
       "    <tr>\n",
       "      <th>211</th>\n",
       "      <td>-35.644810</td>\n",
       "    </tr>\n",
       "    <tr>\n",
       "      <th>212</th>\n",
       "      <td>-35.842564</td>\n",
       "    </tr>\n",
       "    <tr>\n",
       "      <th>213</th>\n",
       "      <td>-34.400875</td>\n",
       "    </tr>\n",
       "    <tr>\n",
       "      <th>214</th>\n",
       "      <td>-31.698011</td>\n",
       "    </tr>\n",
       "    <tr>\n",
       "      <th>215</th>\n",
       "      <td>-29.483974</td>\n",
       "    </tr>\n",
       "  </tbody>\n",
       "</table>\n",
       "<p>216 rows × 1 columns</p>\n",
       "</div>"
      ],
      "text/plain": [
       "             0\n",
       "0   -37.543262\n",
       "1   -36.223270\n",
       "2   -36.245003\n",
       "3   -35.871239\n",
       "4   -38.073673\n",
       "..         ...\n",
       "211 -35.644810\n",
       "212 -35.842564\n",
       "213 -34.400875\n",
       "214 -31.698011\n",
       "215 -29.483974\n",
       "\n",
       "[216 rows x 1 columns]"
      ]
     },
     "execution_count": 18,
     "metadata": {},
     "output_type": "execute_result"
    }
   ],
   "source": [
    "#put it into a pandas df\n",
    "livedf2= pd.DataFrame(data=livedf2)\n",
    "livedf2"
   ]
  },
  {
   "cell_type": "code",
   "execution_count": 19,
   "metadata": {},
   "outputs": [
    {
     "data": {
      "text/html": [
       "<div>\n",
       "<style scoped>\n",
       "    .dataframe tbody tr th:only-of-type {\n",
       "        vertical-align: middle;\n",
       "    }\n",
       "\n",
       "    .dataframe tbody tr th {\n",
       "        vertical-align: top;\n",
       "    }\n",
       "\n",
       "    .dataframe thead tr th {\n",
       "        text-align: left;\n",
       "    }\n",
       "</style>\n",
       "<table border=\"1\" class=\"dataframe\">\n",
       "  <thead>\n",
       "    <tr>\n",
       "      <th></th>\n",
       "      <th>0</th>\n",
       "      <th>1</th>\n",
       "      <th>2</th>\n",
       "      <th>3</th>\n",
       "      <th>4</th>\n",
       "      <th>5</th>\n",
       "      <th>6</th>\n",
       "      <th>7</th>\n",
       "      <th>8</th>\n",
       "      <th>9</th>\n",
       "      <th>...</th>\n",
       "      <th>206</th>\n",
       "      <th>207</th>\n",
       "      <th>208</th>\n",
       "      <th>209</th>\n",
       "      <th>210</th>\n",
       "      <th>211</th>\n",
       "      <th>212</th>\n",
       "      <th>213</th>\n",
       "      <th>214</th>\n",
       "      <th>215</th>\n",
       "    </tr>\n",
       "    <tr>\n",
       "      <th></th>\n",
       "      <th>0</th>\n",
       "      <th>0</th>\n",
       "      <th>0</th>\n",
       "      <th>0</th>\n",
       "      <th>0</th>\n",
       "      <th>0</th>\n",
       "      <th>0</th>\n",
       "      <th>0</th>\n",
       "      <th>0</th>\n",
       "      <th>0</th>\n",
       "      <th>...</th>\n",
       "      <th>0</th>\n",
       "      <th>0</th>\n",
       "      <th>0</th>\n",
       "      <th>0</th>\n",
       "      <th>0</th>\n",
       "      <th>0</th>\n",
       "      <th>0</th>\n",
       "      <th>0</th>\n",
       "      <th>0</th>\n",
       "      <th>0</th>\n",
       "    </tr>\n",
       "  </thead>\n",
       "  <tbody>\n",
       "    <tr>\n",
       "      <th>0</th>\n",
       "      <td>-37.543262</td>\n",
       "      <td>-36.22327</td>\n",
       "      <td>-36.245003</td>\n",
       "      <td>-35.871239</td>\n",
       "      <td>-38.073673</td>\n",
       "      <td>-40.100708</td>\n",
       "      <td>-39.356499</td>\n",
       "      <td>-38.694187</td>\n",
       "      <td>-39.351833</td>\n",
       "      <td>-39.131737</td>\n",
       "      <td>...</td>\n",
       "      <td>-32.405003</td>\n",
       "      <td>-30.687704</td>\n",
       "      <td>-32.313004</td>\n",
       "      <td>-33.757202</td>\n",
       "      <td>-34.205036</td>\n",
       "      <td>-35.64481</td>\n",
       "      <td>-35.842564</td>\n",
       "      <td>-34.400875</td>\n",
       "      <td>-31.698011</td>\n",
       "      <td>-29.483974</td>\n",
       "    </tr>\n",
       "  </tbody>\n",
       "</table>\n",
       "<p>1 rows × 216 columns</p>\n",
       "</div>"
      ],
      "text/plain": [
       "         0         1          2          3          4          5          6    \\\n",
       "           0         0          0          0          0          0          0   \n",
       "0 -37.543262 -36.22327 -36.245003 -35.871239 -38.073673 -40.100708 -39.356499   \n",
       "\n",
       "         7          8          9    ...        206        207        208  \\\n",
       "           0          0          0  ...          0          0          0   \n",
       "0 -38.694187 -39.351833 -39.131737  ... -32.405003 -30.687704 -32.313004   \n",
       "\n",
       "         209        210       211        212        213        214        215  \n",
       "           0          0         0          0          0          0          0  \n",
       "0 -33.757202 -34.205036 -35.64481 -35.842564 -34.400875 -31.698011 -29.483974  \n",
       "\n",
       "[1 rows x 216 columns]"
      ]
     },
     "execution_count": 19,
     "metadata": {},
     "output_type": "execute_result"
    }
   ],
   "source": [
    "#transpose to rows\n",
    "livedf2 = livedf2.stack().to_frame().T\n",
    "livedf2"
   ]
  },
  {
   "cell_type": "code",
   "execution_count": 20,
   "metadata": {},
   "outputs": [
    {
     "data": {
      "text/plain": [
       "array([[[-37.543262],\n",
       "        [-36.22327 ],\n",
       "        [-36.245003],\n",
       "        [-35.87124 ],\n",
       "        [-38.073673],\n",
       "        [-40.100708],\n",
       "        [-39.3565  ],\n",
       "        [-38.694187],\n",
       "        [-39.351833],\n",
       "        [-39.131737],\n",
       "        [-39.102863],\n",
       "        [-39.843513],\n",
       "        [-39.104904],\n",
       "        [-39.925926],\n",
       "        [-39.428406],\n",
       "        [-39.6392  ],\n",
       "        [-39.18528 ],\n",
       "        [-38.769375],\n",
       "        [-39.712605],\n",
       "        [-39.668148],\n",
       "        [-38.57739 ],\n",
       "        [-38.435497],\n",
       "        [-39.564865],\n",
       "        [-38.38411 ],\n",
       "        [-37.82395 ],\n",
       "        [-38.428078],\n",
       "        [-39.171146],\n",
       "        [-40.820618],\n",
       "        [-41.609253],\n",
       "        [-40.501854],\n",
       "        [-41.512714],\n",
       "        [-42.627895],\n",
       "        [-39.706306],\n",
       "        [-38.72128 ],\n",
       "        [-38.02601 ],\n",
       "        [-39.171013],\n",
       "        [-41.652596],\n",
       "        [-39.14623 ],\n",
       "        [-36.26554 ],\n",
       "        [-36.02379 ],\n",
       "        [-38.479294],\n",
       "        [-38.351265],\n",
       "        [-37.502583],\n",
       "        [-38.68309 ],\n",
       "        [-40.706985],\n",
       "        [-38.280506],\n",
       "        [-38.993797],\n",
       "        [-38.773647],\n",
       "        [-36.93638 ],\n",
       "        [-38.42528 ],\n",
       "        [-39.39718 ],\n",
       "        [-38.26508 ],\n",
       "        [-38.511013],\n",
       "        [-39.387985],\n",
       "        [-39.668888],\n",
       "        [-38.07624 ],\n",
       "        [-39.149677],\n",
       "        [-40.942482],\n",
       "        [-39.701218],\n",
       "        [-38.99395 ],\n",
       "        [-38.536026],\n",
       "        [-39.669853],\n",
       "        [-40.87705 ],\n",
       "        [-40.04081 ],\n",
       "        [-40.075577],\n",
       "        [-39.963943],\n",
       "        [-40.18841 ],\n",
       "        [-39.957058],\n",
       "        [-40.642612],\n",
       "        [-38.749382],\n",
       "        [-38.54702 ],\n",
       "        [-39.32515 ],\n",
       "        [-39.5017  ],\n",
       "        [-40.01206 ],\n",
       "        [-40.04859 ],\n",
       "        [-39.52702 ],\n",
       "        [-39.644157],\n",
       "        [-39.506226],\n",
       "        [-38.89716 ],\n",
       "        [-38.26095 ],\n",
       "        [-39.518436],\n",
       "        [-39.53493 ],\n",
       "        [-39.152042],\n",
       "        [-38.764557],\n",
       "        [-39.141567],\n",
       "        [-37.771706],\n",
       "        [-38.177048],\n",
       "        [-38.601707],\n",
       "        [-38.90706 ],\n",
       "        [-38.201157],\n",
       "        [-39.04069 ],\n",
       "        [-39.966972],\n",
       "        [-40.691032],\n",
       "        [-40.525814],\n",
       "        [-40.246384],\n",
       "        [-39.918606],\n",
       "        [-39.691467],\n",
       "        [-40.67881 ],\n",
       "        [-39.484707],\n",
       "        [-38.10453 ],\n",
       "        [-39.872402],\n",
       "        [-41.457706],\n",
       "        [-40.175358],\n",
       "        [-39.841606],\n",
       "        [-39.137016],\n",
       "        [-39.128357],\n",
       "        [-38.860794],\n",
       "        [-39.42176 ],\n",
       "        [-39.279068],\n",
       "        [-39.602985],\n",
       "        [-39.328613],\n",
       "        [-40.121437],\n",
       "        [-39.52065 ],\n",
       "        [-37.988224],\n",
       "        [-38.424084],\n",
       "        [-39.9361  ],\n",
       "        [-39.466873],\n",
       "        [-38.732517],\n",
       "        [-39.80112 ],\n",
       "        [-40.242874],\n",
       "        [-38.610542],\n",
       "        [-38.07983 ],\n",
       "        [-37.960197],\n",
       "        [-39.051914],\n",
       "        [-37.30168 ],\n",
       "        [-36.25184 ],\n",
       "        [-36.852898],\n",
       "        [-38.506065],\n",
       "        [-36.04813 ],\n",
       "        [-35.351265],\n",
       "        [-36.911606],\n",
       "        [-37.707294],\n",
       "        [-37.042862],\n",
       "        [-38.067173],\n",
       "        [-38.775024],\n",
       "        [-37.95566 ],\n",
       "        [-36.596558],\n",
       "        [-35.89071 ],\n",
       "        [-36.026474],\n",
       "        [-35.498165],\n",
       "        [-35.155643],\n",
       "        [-35.6808  ],\n",
       "        [-35.603867],\n",
       "        [-35.98443 ],\n",
       "        [-35.422043],\n",
       "        [-37.482716],\n",
       "        [-34.97119 ],\n",
       "        [-33.63613 ],\n",
       "        [-32.25859 ],\n",
       "        [-32.354023],\n",
       "        [-34.420673],\n",
       "        [-36.1379  ],\n",
       "        [-35.3506  ],\n",
       "        [-35.80573 ],\n",
       "        [-34.574287],\n",
       "        [-29.94392 ],\n",
       "        [-29.312815],\n",
       "        [-33.185184],\n",
       "        [-35.396954],\n",
       "        [-35.279358],\n",
       "        [-36.567127],\n",
       "        [-35.33701 ],\n",
       "        [-32.646584],\n",
       "        [-33.200188],\n",
       "        [-33.417133],\n",
       "        [-32.15117 ],\n",
       "        [-30.744589],\n",
       "        [-30.819664],\n",
       "        [-33.16153 ],\n",
       "        [-31.37466 ],\n",
       "        [-30.505758],\n",
       "        [-30.718147],\n",
       "        [-30.956804],\n",
       "        [-31.437208],\n",
       "        [-30.45598 ],\n",
       "        [-30.413757],\n",
       "        [-30.461702],\n",
       "        [-31.588224],\n",
       "        [-32.983215],\n",
       "        [-30.19464 ],\n",
       "        [-27.782219],\n",
       "        [-26.907124],\n",
       "        [-25.78424 ],\n",
       "        [-25.978275],\n",
       "        [-25.732973],\n",
       "        [-25.19811 ],\n",
       "        [-25.373331],\n",
       "        [-27.20731 ],\n",
       "        [-26.527382],\n",
       "        [-25.895548],\n",
       "        [-25.96482 ],\n",
       "        [-26.493723],\n",
       "        [-29.068909],\n",
       "        [-29.405449],\n",
       "        [-29.041393],\n",
       "        [-29.380995],\n",
       "        [-27.512747],\n",
       "        [-27.861515],\n",
       "        [-29.296316],\n",
       "        [-29.870949],\n",
       "        [-30.20721 ],\n",
       "        [-30.771057],\n",
       "        [-30.188091],\n",
       "        [-29.034311],\n",
       "        [-26.82244 ],\n",
       "        [-29.172533],\n",
       "        [-32.405003],\n",
       "        [-30.687704],\n",
       "        [-32.313004],\n",
       "        [-33.757202],\n",
       "        [-34.205036],\n",
       "        [-35.64481 ],\n",
       "        [-35.842564],\n",
       "        [-34.400875],\n",
       "        [-31.698011],\n",
       "        [-29.483974]]], dtype=float32)"
      ]
     },
     "execution_count": 20,
     "metadata": {},
     "output_type": "execute_result"
    }
   ],
   "source": [
    "#expand to 2D\n",
    "twodim= np.expand_dims(livedf2, axis=2)\n",
    "twodim"
   ]
  },
  {
   "cell_type": "code",
   "execution_count": 21,
   "metadata": {},
   "outputs": [],
   "source": [
    "#load given model\n",
    "import tensorflow as tf\n",
    "loaded_model = tf.keras.models.load_model('/Users/srividyaraghavan/Downloads/Emotion_Voice_Detection_Model.h5')"
   ]
  },
  {
   "cell_type": "code",
   "execution_count": 22,
   "metadata": {},
   "outputs": [
    {
     "name": "stdout",
     "output_type": "stream",
     "text": [
      "1/1 [==============================] - 0s 127ms/step\n"
     ]
    }
   ],
   "source": [
    "#let pretrained model make prediction on the recording\n",
    "livepreds = loaded_model.predict(twodim, \n",
    "                         batch_size=32, \n",
    "                         verbose=1)"
   ]
  },
  {
   "cell_type": "code",
   "execution_count": 23,
   "metadata": {},
   "outputs": [
    {
     "data": {
      "text/plain": [
       "array([[2.8677279e-01, 4.3642387e-01, 1.6496094e-03, 1.0505365e-01,\n",
       "        1.7006773e-01, 4.7025169e-15, 5.3485265e-11, 4.1196995e-06,\n",
       "        3.0802390e-09, 2.8327824e-05]], dtype=float32)"
      ]
     },
     "execution_count": 23,
     "metadata": {},
     "output_type": "execute_result"
    }
   ],
   "source": [
    "#show percentages of each feature\n",
    "livepreds"
   ]
  },
  {
   "cell_type": "code",
   "execution_count": 24,
   "metadata": {},
   "outputs": [
    {
     "name": "stdout",
     "output_type": "stream",
     "text": [
      "[1]\n"
     ]
    }
   ],
   "source": [
    "#predicted label\n",
    "livepreds1=livepreds.argmax(axis=1)\n",
    "print(livepreds1)"
   ]
  },
  {
   "cell_type": "code",
   "execution_count": 25,
   "metadata": {},
   "outputs": [
    {
     "name": "stdout",
     "output_type": "stream",
     "text": [
      "[1]\n"
     ]
    }
   ],
   "source": [
    "#normalize - cast to int\n",
    "liveabc = livepreds1.astype(int).flatten()\n",
    "print(liveabc)"
   ]
  },
  {
   "cell_type": "code",
   "execution_count": 26,
   "metadata": {},
   "outputs": [
    {
     "name": "stdout",
     "output_type": "stream",
     "text": [
      "[0 1 2 3 4 5 6 7 8 9]\n"
     ]
    }
   ],
   "source": [
    "#decode each of the 10 labels by assigning the correct string to it\n",
    "from sklearn.preprocessing import LabelEncoder\n",
    "\n",
    "lb = LabelEncoder()\n",
    "str_labels = np.array([\"female_angry\", \"female_calm\", \"female_fearful\", \"female_happy\", \"female_sad\", \"male_angry\", \"male_calm\", \"male_fearful\", \"male_happy\", \"male_sad\"])\n",
    "int_labels = lb.fit_transform(str_labels)\n",
    "print(int_labels)"
   ]
  },
  {
   "cell_type": "code",
   "execution_count": 27,
   "metadata": {},
   "outputs": [
    {
     "name": "stdout",
     "output_type": "stream",
     "text": [
      "['female_calm']\n"
     ]
    }
   ],
   "source": [
    "#print pred\n",
    "livepredictions = (lb.inverse_transform((liveabc)))\n",
    "print(livepredictions)"
   ]
  }
 ],
 "metadata": {
  "kernelspec": {
   "display_name": "Python 3",
   "language": "python",
   "name": "python3"
  },
  "language_info": {
   "codemirror_mode": {
    "name": "ipython",
    "version": 3
   },
   "file_extension": ".py",
   "mimetype": "text/x-python",
   "name": "python",
   "nbconvert_exporter": "python",
   "pygments_lexer": "ipython3",
   "version": "3.7.6"
  }
 },
 "nbformat": 4,
 "nbformat_minor": 4
}
