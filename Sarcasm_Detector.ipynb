{
  "nbformat": 4,
  "nbformat_minor": 0,
  "metadata": {
    "colab": {
      "name": "Sarcasm Detector",
      "provenance": [],
      "collapsed_sections": []
    },
    "kernelspec": {
      "name": "python3",
      "display_name": "Python 3"
    },
    "language_info": {
      "name": "python"
    },
    "accelerator": "GPU"
  },
  "cells": [
    {
      "cell_type": "code",
      "metadata": {
        "id": "Rhk7hdLfwdjR",
        "colab": {
          "base_uri": "https://localhost:8080/"
        },
        "outputId": "114e7204-febf-4692-e749-e7a7fc0cd17d"
      },
      "source": [
        "from google.colab import drive\n",
        "drive.mount(\"/content/gdrive\")\n"
      ],
      "execution_count": 1,
      "outputs": [
        {
          "output_type": "stream",
          "text": [
            "Mounted at /content/gdrive\n"
          ],
          "name": "stdout"
        }
      ]
    },
    {
      "cell_type": "code",
      "metadata": {
        "id": "aMr8K5qXyh8g"
      },
      "source": [
        "#import libraries\n",
        "\n",
        "import pandas as pd\n",
        "import seaborn as sns\n",
        "import numpy as np\n",
        "from keras.preprocessing.text import Tokenizer\n",
        "from keras.preprocessing import sequence\n",
        "from sklearn.model_selection import train_test_split\n",
        "from keras.layers import LSTM, Activation, Dense, Dropout, Input, Embedding\n",
        "from keras.optimizers import RMSprop\n",
        "from keras.models import Model\n",
        "import matplotlib.pyplot as plt"
      ],
      "execution_count": 2,
      "outputs": []
    },
    {
      "cell_type": "code",
      "metadata": {
        "colab": {
          "base_uri": "https://localhost:8080/",
          "height": 204
        },
        "id": "wKOTnEPqy5t5",
        "outputId": "5da434eb-32c0-4661-ccdf-889df8d46bbb"
      },
      "source": [
        "#load the dataset, display\n",
        "\n",
        "df = pd.read_json(\"/content/gdrive/MyDrive/Sarcasm Detection/Sarcasm_Headlines_Dataset.json\", lines = True)\n",
        "df.head()"
      ],
      "execution_count": 3,
      "outputs": [
        {
          "output_type": "execute_result",
          "data": {
            "text/html": [
              "<div>\n",
              "<style scoped>\n",
              "    .dataframe tbody tr th:only-of-type {\n",
              "        vertical-align: middle;\n",
              "    }\n",
              "\n",
              "    .dataframe tbody tr th {\n",
              "        vertical-align: top;\n",
              "    }\n",
              "\n",
              "    .dataframe thead th {\n",
              "        text-align: right;\n",
              "    }\n",
              "</style>\n",
              "<table border=\"1\" class=\"dataframe\">\n",
              "  <thead>\n",
              "    <tr style=\"text-align: right;\">\n",
              "      <th></th>\n",
              "      <th>article_link</th>\n",
              "      <th>headline</th>\n",
              "      <th>is_sarcastic</th>\n",
              "    </tr>\n",
              "  </thead>\n",
              "  <tbody>\n",
              "    <tr>\n",
              "      <th>0</th>\n",
              "      <td>https://www.huffingtonpost.com/entry/versace-b...</td>\n",
              "      <td>former versace store clerk sues over secret 'b...</td>\n",
              "      <td>0</td>\n",
              "    </tr>\n",
              "    <tr>\n",
              "      <th>1</th>\n",
              "      <td>https://www.huffingtonpost.com/entry/roseanne-...</td>\n",
              "      <td>the 'roseanne' revival catches up to our thorn...</td>\n",
              "      <td>0</td>\n",
              "    </tr>\n",
              "    <tr>\n",
              "      <th>2</th>\n",
              "      <td>https://local.theonion.com/mom-starting-to-fea...</td>\n",
              "      <td>mom starting to fear son's web series closest ...</td>\n",
              "      <td>1</td>\n",
              "    </tr>\n",
              "    <tr>\n",
              "      <th>3</th>\n",
              "      <td>https://politics.theonion.com/boehner-just-wan...</td>\n",
              "      <td>boehner just wants wife to listen, not come up...</td>\n",
              "      <td>1</td>\n",
              "    </tr>\n",
              "    <tr>\n",
              "      <th>4</th>\n",
              "      <td>https://www.huffingtonpost.com/entry/jk-rowlin...</td>\n",
              "      <td>j.k. rowling wishes snape happy birthday in th...</td>\n",
              "      <td>0</td>\n",
              "    </tr>\n",
              "  </tbody>\n",
              "</table>\n",
              "</div>"
            ],
            "text/plain": [
              "                                        article_link  ... is_sarcastic\n",
              "0  https://www.huffingtonpost.com/entry/versace-b...  ...            0\n",
              "1  https://www.huffingtonpost.com/entry/roseanne-...  ...            0\n",
              "2  https://local.theonion.com/mom-starting-to-fea...  ...            1\n",
              "3  https://politics.theonion.com/boehner-just-wan...  ...            1\n",
              "4  https://www.huffingtonpost.com/entry/jk-rowlin...  ...            0\n",
              "\n",
              "[5 rows x 3 columns]"
            ]
          },
          "metadata": {
            "tags": []
          },
          "execution_count": 3
        }
      ]
    },
    {
      "cell_type": "code",
      "metadata": {
        "colab": {
          "base_uri": "https://localhost:8080/",
          "height": 351
        },
        "id": "i_fHpGh7znSk",
        "outputId": "d091f015-db60-4ef4-b2af-13dd775f552e"
      },
      "source": [
        "# Plot class distribution with labels\n",
        "\n",
        "sns.set_style(\"ticks\")\n",
        "sns.countplot(df.is_sarcastic)\n",
        "\n",
        "#about 14000 not, 12000 sarc"
      ],
      "execution_count": 5,
      "outputs": [
        {
          "output_type": "stream",
          "text": [
            "/usr/local/lib/python3.7/dist-packages/seaborn/_decorators.py:43: FutureWarning: Pass the following variable as a keyword arg: x. From version 0.12, the only valid positional argument will be `data`, and passing other arguments without an explicit keyword will result in an error or misinterpretation.\n",
            "  FutureWarning\n"
          ],
          "name": "stderr"
        },
        {
          "output_type": "execute_result",
          "data": {
            "text/plain": [
              "<matplotlib.axes._subplots.AxesSubplot at 0x7fde2b2de6d0>"
            ]
          },
          "metadata": {
            "tags": []
          },
          "execution_count": 5
        },
        {
          "output_type": "display_data",
          "data": {
            "image/png": "[encoded data removed]",
            "text/plain": [
              "<Figure size 432x288 with 1 Axes>"
            ]
          },
          "metadata": {
            "tags": []
          }
        }
      ]
    },
    {
      "cell_type": "code",
      "metadata": {
        "colab": {
          "base_uri": "https://localhost:8080/"
        },
        "id": "yIfMRXf60i9n",
        "outputId": "a65e57aa-242a-4d3b-dfa2-f9cf77099d1a"
      },
      "source": [
        "#making sure there is a class balance (if not, will need to augment data)\n",
        "\n",
        "print(df.is_sarcastic.value_counts())\n",
        "len(df)"
      ],
      "execution_count": 6,
      "outputs": [
        {
          "output_type": "stream",
          "text": [
            "0    14985\n",
            "1    11724\n",
            "Name: is_sarcastic, dtype: int64\n"
          ],
          "name": "stdout"
        },
        {
          "output_type": "execute_result",
          "data": {
            "text/plain": [
              "26709"
            ]
          },
          "metadata": {
            "tags": []
          },
          "execution_count": 6
        }
      ]
    },
    {
      "cell_type": "code",
      "metadata": {
        "id": "I4HUAUBr05Cj"
      },
      "source": [
        "#define X (features) and y (output)\n",
        "#all rows, 1st column\n",
        "X = df.iloc[:,1]\n",
        "#all rows, 2nd column\n",
        "Y = df.iloc[:,2]"
      ],
      "execution_count": 7,
      "outputs": []
    },
    {
      "cell_type": "code",
      "metadata": {
        "colab": {
          "base_uri": "https://localhost:8080/"
        },
        "id": "FuvTlTBv2B0A",
        "outputId": "9eaf1256-cf1f-41d9-f338-db1d4854e635"
      },
      "source": [
        "#split into train and test using lib\n",
        "X_train, X_test, Y_train, Y_test = train_test_split(X, Y, test_size= 0.2)\n",
        "len(X_train)"
      ],
      "execution_count": 8,
      "outputs": [
        {
          "output_type": "execute_result",
          "data": {
            "text/plain": [
              "21367"
            ]
          },
          "metadata": {
            "tags": []
          },
          "execution_count": 8
        }
      ]
    },
    {
      "cell_type": "code",
      "metadata": {
        "colab": {
          "base_uri": "https://localhost:8080/"
        },
        "id": "51LGDHeT2g4-",
        "outputId": "a9225cce-e40e-4661-c205-88f2f209af7f"
      },
      "source": [
        "# Data preprocessing\n",
        "\n",
        "max_words = 1000\n",
        "#max 150 words per sentence (< will be filled with 0, > will be truncated)\n",
        "max_len = 150\n",
        "tok = Tokenizer(num_words=max_words)\n",
        "tok.fit_on_texts(X_train)\n",
        "sequences = tok.texts_to_sequences(X_train)\n",
        "sequences_matrix = sequence.pad_sequences(sequences, maxlen=max_len)\n",
        "sequences_matrix.shape"
      ],
      "execution_count": 9,
      "outputs": [
        {
          "output_type": "execute_result",
          "data": {
            "text/plain": [
              "(21367, 150)"
            ]
          },
          "metadata": {
            "tags": []
          },
          "execution_count": 9
        }
      ]
    },
    {
      "cell_type": "code",
      "metadata": {
        "id": "2VgQNGw44Sjl"
      },
      "source": [
        "#RNN shape/archictecture\n",
        "\n",
        "def RNN():\n",
        "\n",
        "  #put x as input\n",
        "  inputs = Input(name='inputs', shape=[max_len])\n",
        "  #for each word, get a vector of numbers (len = max)\n",
        "  layer = Embedding(max_words, 50, input_length=max_len)(inputs)\n",
        "  layer = LSTM(64)(layer)\n",
        "  #256 neurons\n",
        "  layer = Dense(256, name='FC1')(layer)\n",
        "  #activation for Dense\n",
        "  layer = Activation('relu')(layer)\n",
        "  layer = Dropout(0.2)(layer)\n",
        "  layer = Dense(1, name='out_layer')(layer)\n",
        "  layer = Activation('sigmoid')(layer)\n",
        "  model = Model(inputs=inputs, outputs=layer)\n",
        "  return model"
      ],
      "execution_count": 10,
      "outputs": []
    },
    {
      "cell_type": "code",
      "metadata": {
        "colab": {
          "base_uri": "https://localhost:8080/"
        },
        "id": "74rx4edB4i_F",
        "outputId": "a1df6320-2be9-4b6f-a7b0-b75e258e8928"
      },
      "source": [
        "#compile the model\n",
        "\n",
        "model = RNN()\n",
        "model.summary()\n",
        "#define loss func, optimzer, and metric\n",
        "model.compile(loss = 'binary_crossentropy', optimizer = RMSprop(), metrics=['accuracy'])\n"
      ],
      "execution_count": 11,
      "outputs": [
        {
          "output_type": "stream",
          "text": [
            "Model: \"model\"\n",
            "_________________________________________________________________\n",
            "Layer (type)                 Output Shape              Param #   \n",
            "=================================================================\n",
            "inputs (InputLayer)          [(None, 150)]             0         \n",
            "_________________________________________________________________\n",
            "embedding (Embedding)        (None, 150, 50)           50000     \n",
            "_________________________________________________________________\n",
            "lstm (LSTM)                  (None, 64)                29440     \n",
            "_________________________________________________________________\n",
            "FC1 (Dense)                  (None, 256)               16640     \n",
            "_________________________________________________________________\n",
            "activation (Activation)      (None, 256)               0         \n",
            "_________________________________________________________________\n",
            "dropout (Dropout)            (None, 256)               0         \n",
            "_________________________________________________________________\n",
            "out_layer (Dense)            (None, 1)                 257       \n",
            "_________________________________________________________________\n",
            "activation_1 (Activation)    (None, 1)                 0         \n",
            "=================================================================\n",
            "Total params: 96,337\n",
            "Trainable params: 96,337\n",
            "Non-trainable params: 0\n",
            "_________________________________________________________________\n"
          ],
          "name": "stdout"
        }
      ]
    },
    {
      "cell_type": "code",
      "metadata": {
        "colab": {
          "base_uri": "https://localhost:8080/"
        },
        "id": "Cz1TYD0u6Fl_",
        "outputId": "4fcdca28-b3d2-4e80-eaa3-4643a9c5c6c0"
      },
      "source": [
        "#fit the model\n",
        "\n",
        "#create the validation set, train model\n",
        "history = model.fit(sequences_matrix, Y_train, batch_size=100, epochs=5, validation_split = 0.1)\n"
      ],
      "execution_count": 12,
      "outputs": [
        {
          "output_type": "stream",
          "text": [
            "Epoch 1/5\n",
            "193/193 [==============================] - 34s 44ms/step - loss: 0.8820 - accuracy: 0.6215 - val_loss: 0.4295 - val_accuracy: 0.7983\n",
            "Epoch 2/5\n",
            "193/193 [==============================] - 7s 37ms/step - loss: 0.4003 - accuracy: 0.8172 - val_loss: 0.3952 - val_accuracy: 0.8128\n",
            "Epoch 3/5\n",
            "193/193 [==============================] - 7s 38ms/step - loss: 0.3699 - accuracy: 0.8374 - val_loss: 0.3995 - val_accuracy: 0.8166\n",
            "Epoch 4/5\n",
            "193/193 [==============================] - 7s 37ms/step - loss: 0.3567 - accuracy: 0.8406 - val_loss: 0.3893 - val_accuracy: 0.8184\n",
            "Epoch 5/5\n",
            "193/193 [==============================] - 7s 37ms/step - loss: 0.3397 - accuracy: 0.8481 - val_loss: 0.3865 - val_accuracy: 0.8264\n"
          ],
          "name": "stdout"
        }
      ]
    },
    {
      "cell_type": "code",
      "metadata": {
        "colab": {
          "base_uri": "https://localhost:8080/",
          "height": 573
        },
        "id": "_vkbjMzF8Eqp",
        "outputId": "c534f079-0296-4459-b47d-4773fd4b4975"
      },
      "source": [
        "#plot training and val accuracy/loss\n",
        "fig = plt.figure()\n",
        "plt.plot(history.history['accuracy'])\n",
        "plt.plot(history.history['val_accuracy'])\n",
        "plt.title('model accuracy')\n",
        "plt.grid()\n",
        "plt.ylabel('accuracy')\n",
        "plt.xlabel('epoch')\n",
        "plt.legend(['train', 'validation'], loc='upper left')\n",
        "plt.show()\n",
        "\n",
        "fig = plt.figure()\n",
        "plt.plot(history.history['loss'])\n",
        "plt.plot(history.history['val_loss'])\n",
        "plt.title('model loss')\n",
        "plt.grid()\n",
        "plt.ylabel('loss')\n",
        "plt.xlabel('epoch')\n",
        "plt.legend(['train', 'validation'], loc='upper left')\n",
        "plt.show()"
      ],
      "execution_count": 13,
      "outputs": [
        {
          "output_type": "display_data",
          "data": {
            "image/png": "[encoded data removed]",
            "text/plain": [
              "<Figure size 432x288 with 1 Axes>"
            ]
          },
          "metadata": {
            "tags": []
          }
        },
        {
          "output_type": "display_data",
          "data": {
            "image/png": "[encoded data removed]",
            "text/plain": [
              "<Figure size 432x288 with 1 Axes>"
            ]
          },
          "metadata": {
            "tags": []
          }
        }
      ]
    },
    {
      "cell_type": "code",
      "metadata": {
        "colab": {
          "base_uri": "https://localhost:8080/"
        },
        "id": "MUdaITNY7QVw",
        "outputId": "965631fc-1722-4cf5-bbe7-3c651ccdaa59"
      },
      "source": [
        "#Evaluate on the test set\n",
        "\n",
        "test_sequences = tok.texts_to_sequences(X_test)\n",
        "test_sequences_matrix = sequence.pad_sequences(test_sequences, maxlen=max_len)\n",
        "test_sequences_matrix.shape"
      ],
      "execution_count": 14,
      "outputs": [
        {
          "output_type": "execute_result",
          "data": {
            "text/plain": [
              "(5342, 150)"
            ]
          },
          "metadata": {
            "tags": []
          },
          "execution_count": 14
        }
      ]
    },
    {
      "cell_type": "code",
      "metadata": {
        "colab": {
          "base_uri": "https://localhost:8080/"
        },
        "id": "Flv5jRAb8HZD",
        "outputId": "f6e3a367-a125-41f7-8011-47d7f0fadac2"
      },
      "source": [
        "accr = model.evaluate(test_sequences_matrix, Y_test)\n",
        "print('Test set\\n  Loss: {:0.3f}\\n  Accuracy: {:0.3f}'.format(accr[0], accr[1]))\n",
        "\n",
        "#end accuracy = 82.4%, loss = 0.380"
      ],
      "execution_count": 15,
      "outputs": [
        {
          "output_type": "stream",
          "text": [
            "167/167 [==============================] - 2s 13ms/step - loss: 0.3796 - accuracy: 0.8240\n",
            "Test set\n",
            "  Loss: 0.380\n",
            "  Accuracy: 0.824\n"
          ],
          "name": "stdout"
        }
      ]
    }
  ]
}