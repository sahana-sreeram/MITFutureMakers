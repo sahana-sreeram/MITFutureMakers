{
  "nbformat": 4,
  "nbformat_minor": 0,
  "metadata": {
    "colab": {
      "name": "Minimizing Overfitting",
      "provenance": []
    },
    "kernelspec": {
      "name": "python3",
      "display_name": "Python 3"
    },
    "language_info": {
      "name": "python"
    }
  },
  "cells": [
    {
      "cell_type": "markdown",
      "metadata": {
        "id": "NTVyMC0yTtGD"
      },
      "source": [
        "Minimizing overfitting using Twitter US Airline Sentiment Analysis Kaggle Dataset"
      ]
    },
    {
      "cell_type": "code",
      "metadata": {
        "id": "Z6QXadlsT66F"
      },
      "source": [
        "import pandas as pd \n",
        "import numpy as np\n",
        "import re\n",
        "import collections\n",
        "import matplotlib.pyplot as plt\n",
        "from pathlib import Path\n",
        "#Data prep packages\n",
        "from sklearn.model_selection import train_test_split\n",
        "from nltk.corpus import stopwords\n",
        "from keras.preprocessing.text import Tokenizer\n",
        "from keras.utils.np_utils import to_categorical\n",
        "from sklearn.preprocessing import LabelEncoder\n",
        "#model architecture\n",
        "from keras import models\n",
        "from keras import layers\n",
        "from keras import regularizers\n",
        "NB_WORDS = 10000  #number of words\n",
        "NB_START_EPOCHS = 20 #train using 20 epochs\n",
        "BATCH_SIZE = 512\n",
        "MAX_LEN = 20  #max number of words in sequence\n",
        "root = Path('../')\n",
        "input_path = root / 'input/' \n",
        "ouput_path = root / 'output/'\n",
        "source_path = root / 'source/'"
      ],
      "execution_count": 26,
      "outputs": []
    },
    {
      "cell_type": "code",
      "metadata": {
        "id": "Bgg2UvtYUYG-"
      },
      "source": [
        "# Helper functions\n",
        "\n",
        "def deep_model(model, X_train, y_train, X_valid, y_valid):\n",
        "    '''\n",
        "    Defines the optimizer, loss, and metric. Trains the model\n",
        "    @params: X input (train), Y target (train), X input (validation), Y target (val)\n",
        "    Output: accuracy and loss\n",
        "    '''\n",
        "    model.compile(optimizer='rmsprop'\n",
        "                  , loss='categorical_crossentropy'\n",
        "                  , metrics=['accuracy'])\n",
        "    \n",
        "    history = model.fit(X_train\n",
        "                       , y_train\n",
        "                       , epochs=NB_START_EPOCHS\n",
        "                       , batch_size=BATCH_SIZE\n",
        "                       , validation_data=(X_valid, y_valid)\n",
        "                       , verbose=2)\n",
        "    return history\n",
        "def eval_metric(model, history, metric_name):\n",
        "    '''\n",
        "    Plot training and validation loss and accuracy\n",
        "    Parameters:\n",
        "        history : model training history\n",
        "        metric_name : loss or accuracy\n",
        "    Output:\n",
        "        line chart with epochs of x-axis and metric on\n",
        "        y-axis\n",
        "    '''\n",
        "    metric = history.history[metric_name]\n",
        "    val_metric = history.history['val_' + metric_name]\n",
        "    e = range(1, NB_START_EPOCHS + 1)\n",
        "    plt.plot(e, metric, 'bo', label='Train ' + metric_name)\n",
        "    plt.plot(e, val_metric, 'b', label='Validation ' + metric_name)\n",
        "    plt.xlabel('Epoch number')\n",
        "    plt.ylabel(metric_name)\n",
        "    plt.title('Comparing training and validation ' + metric_name + ' for ' + model.name)\n",
        "    plt.legend()\n",
        "    plt.show()\n",
        "def test_model(model, X_train, y_train, X_test, y_test, epoch_stop):\n",
        "    '''\n",
        "    Test the model on the new data (testing set) after it's trained.\n",
        "    \n",
        "    Parameters:\n",
        "        model : trained model\n",
        "        X_train : training features\n",
        "        y_train : training target\n",
        "        X_test : test features\n",
        "        y_test : test target\n",
        "        epochs : optimal number of epochs\n",
        "    Output:\n",
        "        test accuracy and test loss\n",
        "    '''\n",
        "    model.fit(X_train\n",
        "              , y_train\n",
        "              , epochs=epoch_stop\n",
        "              , batch_size=BATCH_SIZE\n",
        "              , verbose=0)\n",
        "    results = model.evaluate(X_test, y_test)\n",
        "    print()\n",
        "    print('Test accuracy: {0:.2f}%'.format(results[1]*100))\n",
        "    return results\n",
        "    \n",
        "def remove_stopwords(input_text):\n",
        "    '''\n",
        "    Function to remove English stopwords from a Pandas Series.\n",
        "    \n",
        "    Parameters:\n",
        "        input_text : text to clean\n",
        "    Output:\n",
        "        cleaned Pandas Series \n",
        "    '''\n",
        "    stopwords_list = stopwords.words('english')\n",
        "    # Some words which might indicate a certain sentiment are kept via a whitelist\n",
        "    whitelist = [\"n't\", \"not\", \"no\"]\n",
        "    words = input_text.split() \n",
        "    clean_words = [word for word in words if (word not in stopwords_list or word in whitelist) and len(word) > 1] \n",
        "    return \" \".join(clean_words) \n",
        "    \n",
        "def remove_mentions(input_text):\n",
        "    '''\n",
        "    Remove @ Twitter mentions - irrelevant\n",
        "    \n",
        "    Parameters:\n",
        "        input_text : text to clean\n",
        "    Output:\n",
        "        cleaned Pandas Series \n",
        "    '''\n",
        "    return re.sub(r'@\\w+', '', input_text)\n",
        "def compare_models_by_metric(model_1, model_2, model_hist_1, model_hist_2, metric):\n",
        "    '''\n",
        "    Function to compare a metric between two models \n",
        "        \n",
        "    Output:\n",
        "        plot of metrics of both models\n",
        "    '''\n",
        "    metric_model_1 = model_hist_1.history[metric]\n",
        "    metric_model_2 = model_hist_2.history[metric]\n",
        "    e = range(1, NB_START_EPOCHS + 1)\n",
        "    \n",
        "    metrics_dict = {\n",
        "        'acc' : 'Training Accuracy',\n",
        "        'loss' : 'Training Loss',\n",
        "        'val_acc' : 'Validation accuracy',\n",
        "        'val_loss' : 'Validation loss'\n",
        "    }\n",
        "    \n",
        "    metric_label = metrics_dict[metric]\n",
        "    plt.plot(e, metric_model_1, 'bo', label=model_1.name)\n",
        "    plt.plot(e, metric_model_2, 'b', label=model_2.name)\n",
        "    plt.xlabel('Epoch number')\n",
        "    plt.ylabel(metric_label)\n",
        "    plt.title('Comparing ' + metric_label + ' between models')\n",
        "    plt.legend()\n",
        "    plt.show()\n",
        "    \n",
        "def optimal_epoch(model_hist):\n",
        "    '''\n",
        "    Function to return the epoch number where the validation loss is\n",
        "    at its minimum - can use this in early stopping to prevent overfitting\n",
        "    Output:\n",
        "        epoch number with minimum validation loss\n",
        "    '''\n",
        "    min_epoch = np.argmin(model_hist.history['val_loss']) + 1\n",
        "    print(\"Minimum validation loss reached in epoch {}\".format(min_epoch))\n",
        "    return min_epoch"
      ],
      "execution_count": 10,
      "outputs": []
    },
    {
      "cell_type": "code",
      "metadata": {
        "colab": {
          "base_uri": "https://localhost:8080/",
          "height": 462
        },
        "id": "9DRh22GqVS5A",
        "outputId": "1cdf3f0e-316f-47aa-ae45-2631a6816bd8"
      },
      "source": [
        "#Load dataset\n",
        "from google.colab import drive\n",
        "drive.mount(\"/content/gdrive\")\n",
        "\n",
        "df = pd.read_csv(\"/content/gdrive/MyDrive/Airline Sentiments/Tweets.csv\")\n",
        "df.head()"
      ],
      "execution_count": 8,
      "outputs": [
        {
          "output_type": "stream",
          "text": [
            "Drive already mounted at /content/gdrive; to attempt to forcibly remount, call drive.mount(\"/content/gdrive\", force_remount=True).\n"
          ],
          "name": "stdout"
        },
        {
          "output_type": "execute_result",
          "data": {
            "text/html": [
              "<div>\n",
              "<style scoped>\n",
              "    .dataframe tbody tr th:only-of-type {\n",
              "        vertical-align: middle;\n",
              "    }\n",
              "\n",
              "    .dataframe tbody tr th {\n",
              "        vertical-align: top;\n",
              "    }\n",
              "\n",
              "    .dataframe thead th {\n",
              "        text-align: right;\n",
              "    }\n",
              "</style>\n",
              "<table border=\"1\" class=\"dataframe\">\n",
              "  <thead>\n",
              "    <tr style=\"text-align: right;\">\n",
              "      <th></th>\n",
              "      <th>tweet_id</th>\n",
              "      <th>airline_sentiment</th>\n",
              "      <th>airline_sentiment_confidence</th>\n",
              "      <th>negativereason</th>\n",
              "      <th>negativereason_confidence</th>\n",
              "      <th>airline</th>\n",
              "      <th>airline_sentiment_gold</th>\n",
              "      <th>name</th>\n",
              "      <th>negativereason_gold</th>\n",
              "      <th>retweet_count</th>\n",
              "      <th>text</th>\n",
              "      <th>tweet_coord</th>\n",
              "      <th>tweet_created</th>\n",
              "      <th>tweet_location</th>\n",
              "      <th>user_timezone</th>\n",
              "    </tr>\n",
              "  </thead>\n",
              "  <tbody>\n",
              "    <tr>\n",
              "      <th>0</th>\n",
              "      <td>570306133677760513</td>\n",
              "      <td>neutral</td>\n",
              "      <td>1.0000</td>\n",
              "      <td>NaN</td>\n",
              "      <td>NaN</td>\n",
              "      <td>Virgin America</td>\n",
              "      <td>NaN</td>\n",
              "      <td>cairdin</td>\n",
              "      <td>NaN</td>\n",
              "      <td>0</td>\n",
              "      <td>@VirginAmerica What @dhepburn said.</td>\n",
              "      <td>NaN</td>\n",
              "      <td>2015-02-24 11:35:52 -0800</td>\n",
              "      <td>NaN</td>\n",
              "      <td>Eastern Time (US &amp; Canada)</td>\n",
              "    </tr>\n",
              "    <tr>\n",
              "      <th>1</th>\n",
              "      <td>570301130888122368</td>\n",
              "      <td>positive</td>\n",
              "      <td>0.3486</td>\n",
              "      <td>NaN</td>\n",
              "      <td>0.0000</td>\n",
              "      <td>Virgin America</td>\n",
              "      <td>NaN</td>\n",
              "      <td>jnardino</td>\n",
              "      <td>NaN</td>\n",
              "      <td>0</td>\n",
              "      <td>@VirginAmerica plus you've added commercials t...</td>\n",
              "      <td>NaN</td>\n",
              "      <td>2015-02-24 11:15:59 -0800</td>\n",
              "      <td>NaN</td>\n",
              "      <td>Pacific Time (US &amp; Canada)</td>\n",
              "    </tr>\n",
              "    <tr>\n",
              "      <th>2</th>\n",
              "      <td>570301083672813571</td>\n",
              "      <td>neutral</td>\n",
              "      <td>0.6837</td>\n",
              "      <td>NaN</td>\n",
              "      <td>NaN</td>\n",
              "      <td>Virgin America</td>\n",
              "      <td>NaN</td>\n",
              "      <td>yvonnalynn</td>\n",
              "      <td>NaN</td>\n",
              "      <td>0</td>\n",
              "      <td>@VirginAmerica I didn't today... Must mean I n...</td>\n",
              "      <td>NaN</td>\n",
              "      <td>2015-02-24 11:15:48 -0800</td>\n",
              "      <td>Lets Play</td>\n",
              "      <td>Central Time (US &amp; Canada)</td>\n",
              "    </tr>\n",
              "    <tr>\n",
              "      <th>3</th>\n",
              "      <td>570301031407624196</td>\n",
              "      <td>negative</td>\n",
              "      <td>1.0000</td>\n",
              "      <td>Bad Flight</td>\n",
              "      <td>0.7033</td>\n",
              "      <td>Virgin America</td>\n",
              "      <td>NaN</td>\n",
              "      <td>jnardino</td>\n",
              "      <td>NaN</td>\n",
              "      <td>0</td>\n",
              "      <td>@VirginAmerica it's really aggressive to blast...</td>\n",
              "      <td>NaN</td>\n",
              "      <td>2015-02-24 11:15:36 -0800</td>\n",
              "      <td>NaN</td>\n",
              "      <td>Pacific Time (US &amp; Canada)</td>\n",
              "    </tr>\n",
              "    <tr>\n",
              "      <th>4</th>\n",
              "      <td>570300817074462722</td>\n",
              "      <td>negative</td>\n",
              "      <td>1.0000</td>\n",
              "      <td>Can't Tell</td>\n",
              "      <td>1.0000</td>\n",
              "      <td>Virgin America</td>\n",
              "      <td>NaN</td>\n",
              "      <td>jnardino</td>\n",
              "      <td>NaN</td>\n",
              "      <td>0</td>\n",
              "      <td>@VirginAmerica and it's a really big bad thing...</td>\n",
              "      <td>NaN</td>\n",
              "      <td>2015-02-24 11:14:45 -0800</td>\n",
              "      <td>NaN</td>\n",
              "      <td>Pacific Time (US &amp; Canada)</td>\n",
              "    </tr>\n",
              "  </tbody>\n",
              "</table>\n",
              "</div>"
            ],
            "text/plain": [
              "             tweet_id  ...               user_timezone\n",
              "0  570306133677760513  ...  Eastern Time (US & Canada)\n",
              "1  570301130888122368  ...  Pacific Time (US & Canada)\n",
              "2  570301083672813571  ...  Central Time (US & Canada)\n",
              "3  570301031407624196  ...  Pacific Time (US & Canada)\n",
              "4  570300817074462722  ...  Pacific Time (US & Canada)\n",
              "\n",
              "[5 rows x 15 columns]"
            ]
          },
          "metadata": {
            "tags": []
          },
          "execution_count": 8
        }
      ]
    },
    {
      "cell_type": "code",
      "metadata": {
        "colab": {
          "base_uri": "https://localhost:8080/"
        },
        "id": "dgNu6EWSWvqH",
        "outputId": "fac726b9-8e9e-4405-97b1-f20ceb847cc0"
      },
      "source": [
        "import nltk\n",
        "nltk.download('stopwords')\n",
        "from nltk.corpus import stopwords\n",
        "STOPWORDS = set(stopwords.words('english'))\n",
        "\n",
        "\n",
        "#shuffle data for even distribution\n",
        "df = df.reindex(np.random.permutation(df.index))  \n",
        "#remove stopwords and mentions\n",
        "df = df[['text', 'airline_sentiment']]\n",
        "df.text = df.text.apply(remove_stopwords).apply(remove_mentions)\n"
      ],
      "execution_count": 12,
      "outputs": [
        {
          "output_type": "stream",
          "text": [
            "[nltk_data] Downloading package stopwords to /root/nltk_data...\n",
            "[nltk_data]   Unzipping corpora/stopwords.zip.\n"
          ],
          "name": "stdout"
        }
      ]
    },
    {
      "cell_type": "code",
      "metadata": {
        "id": "Yg8ua9miXTkJ"
      },
      "source": [
        "#Train test split\n",
        "X_train, X_test, y_train, y_test = train_test_split(df.text, df.airline_sentiment, test_size=0.1, random_state=37)"
      ],
      "execution_count": 13,
      "outputs": []
    },
    {
      "cell_type": "code",
      "metadata": {
        "id": "CbHBLXGtXXJZ"
      },
      "source": [
        "#Use tokenizer to convert words to computer-readable numbers, convert to lowercase\n",
        "tk = Tokenizer(num_words=NB_WORDS,\n",
        "               filters='!\"#$%&()*+,-./:;<=>?@[\\\\]^_`{\"}~\\t\\n',\n",
        "               lower=True,\n",
        "               char_level=False,\n",
        "               split=' ')\n",
        "tk.fit_on_texts(X_train)"
      ],
      "execution_count": 14,
      "outputs": []
    },
    {
      "cell_type": "code",
      "metadata": {
        "id": "uVDaAF21XgZb"
      },
      "source": [
        "#convert words to a vector using NB_WORDS\n",
        "\n",
        "X_train_oh = tk.texts_to_matrix(X_train, mode='binary')\n",
        "X_test_oh = tk.texts_to_matrix(X_test, mode='binary')\n"
      ],
      "execution_count": 15,
      "outputs": []
    },
    {
      "cell_type": "code",
      "metadata": {
        "id": "5ay3tsZzXsIb"
      },
      "source": [
        "#One hot encoding - convert labels to numbers with to_categorical\n",
        "le = LabelEncoder()\n",
        "y_train_le = le.fit_transform(y_train)\n",
        "y_test_le = le.transform(y_test)\n",
        "y_train_oh = to_categorical(y_train_le)\n",
        "y_test_oh = to_categorical(y_test_le)\n"
      ],
      "execution_count": 16,
      "outputs": []
    },
    {
      "cell_type": "code",
      "metadata": {
        "id": "RyTqsSMoX0hb"
      },
      "source": [
        "#split training set to get the validation set\n",
        "X_train_rest, X_valid, y_train_rest, y_valid = train_test_split(X_train_oh, y_train_oh, test_size=0.1, random_state=37)"
      ],
      "execution_count": 17,
      "outputs": []
    },
    {
      "cell_type": "code",
      "metadata": {
        "id": "eA-oTY6JX80T"
      },
      "source": [
        "#create an overfitted model\n",
        "\n",
        "base_model = models.Sequential()\n",
        "base_model.add(layers.Dense(64, activation='relu', input_shape=(NB_WORDS,)))\n",
        "base_model.add(layers.Dense(64, activation='relu'))\n",
        "base_model.add(layers.Dense(3, activation='softmax'))\n"
      ],
      "execution_count": 23,
      "outputs": []
    },
    {
      "cell_type": "code",
      "metadata": {
        "colab": {
          "base_uri": "https://localhost:8080/",
          "height": 992
        },
        "id": "6A8Fj-sCYulo",
        "outputId": "1df0489d-f8a2-4edc-b79f-9dac72dd1e0c"
      },
      "source": [
        "#plot the training vs validation\n",
        "base_history = deep_model(base_model, X_train_rest, y_train_rest, X_valid, y_valid)\n",
        "base_min = optimal_epoch(base_history)\n",
        "eval_metric(base_model, base_history, 'loss')\n",
        "\n",
        "#model is clearly overfitted because it's memorizing training data"
      ],
      "execution_count": 27,
      "outputs": [
        {
          "output_type": "stream",
          "text": [
            "Epoch 1/20\n",
            "24/24 - 2s - loss: 0.0348 - accuracy: 0.9894 - val_loss: 1.7370 - val_accuracy: 0.7534\n",
            "Epoch 2/20\n",
            "24/24 - 1s - loss: 0.0270 - accuracy: 0.9917 - val_loss: 1.8021 - val_accuracy: 0.7436\n",
            "Epoch 3/20\n",
            "24/24 - 1s - loss: 0.0254 - accuracy: 0.9917 - val_loss: 1.8614 - val_accuracy: 0.7527\n",
            "Epoch 4/20\n",
            "24/24 - 1s - loss: 0.0237 - accuracy: 0.9918 - val_loss: 1.9711 - val_accuracy: 0.7382\n",
            "Epoch 5/20\n",
            "24/24 - 1s - loss: 0.0226 - accuracy: 0.9926 - val_loss: 2.0071 - val_accuracy: 0.7420\n",
            "Epoch 6/20\n",
            "24/24 - 1s - loss: 0.0208 - accuracy: 0.9930 - val_loss: 2.0547 - val_accuracy: 0.7382\n",
            "Epoch 7/20\n",
            "24/24 - 1s - loss: 0.0200 - accuracy: 0.9930 - val_loss: 2.1309 - val_accuracy: 0.7367\n",
            "Epoch 8/20\n",
            "24/24 - 1s - loss: 0.0192 - accuracy: 0.9933 - val_loss: 2.1771 - val_accuracy: 0.7352\n",
            "Epoch 9/20\n",
            "24/24 - 1s - loss: 0.0189 - accuracy: 0.9933 - val_loss: 2.2375 - val_accuracy: 0.7398\n",
            "Epoch 10/20\n",
            "24/24 - 1s - loss: 0.0179 - accuracy: 0.9942 - val_loss: 2.3197 - val_accuracy: 0.7337\n",
            "Epoch 11/20\n",
            "24/24 - 1s - loss: 0.0178 - accuracy: 0.9942 - val_loss: 2.3461 - val_accuracy: 0.7299\n",
            "Epoch 12/20\n",
            "24/24 - 1s - loss: 0.0173 - accuracy: 0.9937 - val_loss: 2.4574 - val_accuracy: 0.7322\n",
            "Epoch 13/20\n",
            "24/24 - 1s - loss: 0.0171 - accuracy: 0.9939 - val_loss: 2.4497 - val_accuracy: 0.7291\n",
            "Epoch 14/20\n",
            "24/24 - 1s - loss: 0.0166 - accuracy: 0.9939 - val_loss: 2.4920 - val_accuracy: 0.7284\n",
            "Epoch 15/20\n",
            "24/24 - 1s - loss: 0.0156 - accuracy: 0.9943 - val_loss: 2.5428 - val_accuracy: 0.7299\n",
            "Epoch 16/20\n",
            "24/24 - 1s - loss: 0.0162 - accuracy: 0.9938 - val_loss: 2.5955 - val_accuracy: 0.7291\n",
            "Epoch 17/20\n",
            "24/24 - 1s - loss: 0.0159 - accuracy: 0.9942 - val_loss: 2.5950 - val_accuracy: 0.7284\n",
            "Epoch 18/20\n",
            "24/24 - 1s - loss: 0.0154 - accuracy: 0.9942 - val_loss: 2.6363 - val_accuracy: 0.7269\n",
            "Epoch 19/20\n",
            "24/24 - 1s - loss: 0.0151 - accuracy: 0.9940 - val_loss: 2.6670 - val_accuracy: 0.7238\n",
            "Epoch 20/20\n",
            "24/24 - 1s - loss: 0.0150 - accuracy: 0.9945 - val_loss: 2.7119 - val_accuracy: 0.7238\n",
            "Minimum validation loss reached in epoch 1\n"
          ],
          "name": "stdout"
        },
        {
          "output_type": "display_data",
          "data": {
            "image/png": "[encoded data removed]",
            "text/plain": [
              "<Figure size 432x288 with 1 Axes>"
            ]
          },
          "metadata": {
            "tags": [],
            "needs_background": "light"
          }
        }
      ]
    },
    {
      "cell_type": "markdown",
      "metadata": {
        "id": "ggp5IYfoZS4k"
      },
      "source": [
        "3 ways to minimize overfitting:\n",
        "1. Reduce network capacity by reducing layers\n",
        "2. Regularization - drop excessively large weights\n",
        "3. Dropout - remove certain features"
      ]
    },
    {
      "cell_type": "code",
      "metadata": {
        "colab": {
          "base_uri": "https://localhost:8080/",
          "height": 992
        },
        "id": "au5R-3_LZhz9",
        "outputId": "0dfd7b61-283c-4ecc-f057-5f80841ea0c9"
      },
      "source": [
        "#Reduce network capacity\n",
        "\n",
        "#create new model\n",
        "reduced_model = models.Sequential()\n",
        "#add dense layer\n",
        "reduced_model.add(layers.Dense(16, activation='relu', input_shape=(NB_WORDS,)))\n",
        "#add output layer\n",
        "reduced_model.add(layers.Dense(3, activation='softmax'))\n",
        "reduced_history = deep_model(reduced_model, X_train_rest, y_train_rest, X_valid, y_valid)\n",
        "reduced_min = optimal_epoch(reduced_history)\n",
        "#plot loss\n",
        "eval_metric(reduced_model, reduced_history, 'loss')"
      ],
      "execution_count": 28,
      "outputs": [
        {
          "output_type": "stream",
          "text": [
            "Epoch 1/20\n",
            "24/24 - 1s - loss: 0.9398 - accuracy: 0.6235 - val_loss: 0.8486 - val_accuracy: 0.6222\n",
            "Epoch 2/20\n",
            "24/24 - 1s - loss: 0.7795 - accuracy: 0.6456 - val_loss: 0.7605 - val_accuracy: 0.6480\n",
            "Epoch 3/20\n",
            "24/24 - 1s - loss: 0.6909 - accuracy: 0.6915 - val_loss: 0.7028 - val_accuracy: 0.7011\n",
            "Epoch 4/20\n",
            "24/24 - 1s - loss: 0.6213 - accuracy: 0.7427 - val_loss: 0.6574 - val_accuracy: 0.7390\n",
            "Epoch 5/20\n",
            "24/24 - 1s - loss: 0.5638 - accuracy: 0.7915 - val_loss: 0.6218 - val_accuracy: 0.7527\n",
            "Epoch 6/20\n",
            "24/24 - 0s - loss: 0.5149 - accuracy: 0.8229 - val_loss: 0.5919 - val_accuracy: 0.7747\n",
            "Epoch 7/20\n",
            "24/24 - 1s - loss: 0.4726 - accuracy: 0.8461 - val_loss: 0.5694 - val_accuracy: 0.7822\n",
            "Epoch 8/20\n",
            "24/24 - 1s - loss: 0.4362 - accuracy: 0.8630 - val_loss: 0.5539 - val_accuracy: 0.7815\n",
            "Epoch 9/20\n",
            "24/24 - 1s - loss: 0.4048 - accuracy: 0.8732 - val_loss: 0.5402 - val_accuracy: 0.7959\n",
            "Epoch 10/20\n",
            "24/24 - 1s - loss: 0.3778 - accuracy: 0.8821 - val_loss: 0.5311 - val_accuracy: 0.7951\n",
            "Epoch 11/20\n",
            "24/24 - 1s - loss: 0.3543 - accuracy: 0.8895 - val_loss: 0.5257 - val_accuracy: 0.7967\n",
            "Epoch 12/20\n",
            "24/24 - 1s - loss: 0.3336 - accuracy: 0.8941 - val_loss: 0.5243 - val_accuracy: 0.7967\n",
            "Epoch 13/20\n",
            "24/24 - 1s - loss: 0.3156 - accuracy: 0.8996 - val_loss: 0.5261 - val_accuracy: 0.7959\n",
            "Epoch 14/20\n",
            "24/24 - 1s - loss: 0.2993 - accuracy: 0.9032 - val_loss: 0.5285 - val_accuracy: 0.7944\n",
            "Epoch 15/20\n",
            "24/24 - 1s - loss: 0.2844 - accuracy: 0.9063 - val_loss: 0.5301 - val_accuracy: 0.7936\n",
            "Epoch 16/20\n",
            "24/24 - 1s - loss: 0.2711 - accuracy: 0.9118 - val_loss: 0.5348 - val_accuracy: 0.7929\n",
            "Epoch 17/20\n",
            "24/24 - 1s - loss: 0.2589 - accuracy: 0.9158 - val_loss: 0.5405 - val_accuracy: 0.7921\n",
            "Epoch 18/20\n",
            "24/24 - 1s - loss: 0.2476 - accuracy: 0.9199 - val_loss: 0.5474 - val_accuracy: 0.7898\n",
            "Epoch 19/20\n",
            "24/24 - 1s - loss: 0.2372 - accuracy: 0.9228 - val_loss: 0.5569 - val_accuracy: 0.7868\n",
            "Epoch 20/20\n",
            "24/24 - 1s - loss: 0.2271 - accuracy: 0.9269 - val_loss: 0.5650 - val_accuracy: 0.7860\n",
            "Minimum validation loss reached in epoch 12\n"
          ],
          "name": "stdout"
        },
        {
          "output_type": "display_data",
          "data": {
            "image/png": "[encoded data removed]",
            "text/plain": [
              "<Figure size 432x288 with 1 Axes>"
            ]
          },
          "metadata": {
            "tags": [],
            "needs_background": "light"
          }
        }
      ]
    },
    {
      "cell_type": "code",
      "metadata": {
        "colab": {
          "base_uri": "https://localhost:8080/",
          "height": 992
        },
        "id": "M48pxn8_Z3CE",
        "outputId": "476d17b7-88df-46f9-a42b-f9bbdc58e690"
      },
      "source": [
        "#Apply regularizer\n",
        "''' Using L2 regularizer because it reduces coefficients evenly and simplifies model '''\n",
        "reg_model = models.Sequential()\n",
        "reg_model.add(layers.Dense(64, kernel_regularizer=regularizers.l2(0.001), activation='relu', input_shape=(NB_WORDS,)))\n",
        "reg_model.add(layers.Dense(64, kernel_regularizer=regularizers.l2(0.001), activation='relu'))\n",
        "reg_model.add(layers.Dense(3, activation='softmax'))\n",
        "reg_history = deep_model(reg_model, X_train_rest, y_train_rest, X_valid, y_valid)\n",
        "reg_min = optimal_epoch(reg_history)\n",
        "eval_metric(reg_model, reg_history, 'loss')\n",
        "#starts overfitting same time sa baseline, but loss is lower"
      ],
      "execution_count": 30,
      "outputs": [
        {
          "output_type": "stream",
          "text": [
            "Epoch 1/20\n",
            "24/24 - 2s - loss: 0.9433 - accuracy: 0.6233 - val_loss: 0.7767 - val_accuracy: 0.7071\n",
            "Epoch 2/20\n",
            "24/24 - 1s - loss: 0.6667 - accuracy: 0.7727 - val_loss: 0.6521 - val_accuracy: 0.7883\n",
            "Epoch 3/20\n",
            "24/24 - 1s - loss: 0.5455 - accuracy: 0.8426 - val_loss: 0.6321 - val_accuracy: 0.7853\n",
            "Epoch 4/20\n",
            "24/24 - 1s - loss: 0.4822 - accuracy: 0.8638 - val_loss: 0.6187 - val_accuracy: 0.7906\n",
            "Epoch 5/20\n",
            "24/24 - 1s - loss: 0.4422 - accuracy: 0.8813 - val_loss: 0.6489 - val_accuracy: 0.7868\n",
            "Epoch 6/20\n",
            "24/24 - 1s - loss: 0.4130 - accuracy: 0.8904 - val_loss: 0.6517 - val_accuracy: 0.7959\n",
            "Epoch 7/20\n",
            "24/24 - 1s - loss: 0.3905 - accuracy: 0.8991 - val_loss: 0.6619 - val_accuracy: 0.7792\n",
            "Epoch 8/20\n",
            "24/24 - 1s - loss: 0.3692 - accuracy: 0.9097 - val_loss: 0.6725 - val_accuracy: 0.7876\n",
            "Epoch 9/20\n",
            "24/24 - 1s - loss: 0.3521 - accuracy: 0.9165 - val_loss: 0.7015 - val_accuracy: 0.7800\n",
            "Epoch 10/20\n",
            "24/24 - 1s - loss: 0.3375 - accuracy: 0.9212 - val_loss: 0.7371 - val_accuracy: 0.7663\n",
            "Epoch 11/20\n",
            "24/24 - 1s - loss: 0.3234 - accuracy: 0.9297 - val_loss: 0.7409 - val_accuracy: 0.7777\n",
            "Epoch 12/20\n",
            "24/24 - 1s - loss: 0.3116 - accuracy: 0.9335 - val_loss: 0.7454 - val_accuracy: 0.7656\n",
            "Epoch 13/20\n",
            "24/24 - 1s - loss: 0.2994 - accuracy: 0.9370 - val_loss: 0.7530 - val_accuracy: 0.7640\n",
            "Epoch 14/20\n",
            "24/24 - 1s - loss: 0.2908 - accuracy: 0.9432 - val_loss: 0.7697 - val_accuracy: 0.7618\n",
            "Epoch 15/20\n",
            "24/24 - 1s - loss: 0.2804 - accuracy: 0.9438 - val_loss: 0.7888 - val_accuracy: 0.7633\n",
            "Epoch 16/20\n",
            "24/24 - 1s - loss: 0.2710 - accuracy: 0.9485 - val_loss: 0.7959 - val_accuracy: 0.7716\n",
            "Epoch 17/20\n",
            "24/24 - 1s - loss: 0.2642 - accuracy: 0.9511 - val_loss: 0.8374 - val_accuracy: 0.7466\n",
            "Epoch 18/20\n",
            "24/24 - 1s - loss: 0.2558 - accuracy: 0.9538 - val_loss: 0.8171 - val_accuracy: 0.7640\n",
            "Epoch 19/20\n",
            "24/24 - 1s - loss: 0.2513 - accuracy: 0.9559 - val_loss: 0.8293 - val_accuracy: 0.7678\n",
            "Epoch 20/20\n",
            "24/24 - 1s - loss: 0.2436 - accuracy: 0.9592 - val_loss: 0.8583 - val_accuracy: 0.7656\n",
            "Minimum validation loss reached in epoch 4\n"
          ],
          "name": "stdout"
        },
        {
          "output_type": "display_data",
          "data": {
            "image/png": "[encoded data removed]",
            "text/plain": [
              "<Figure size 432x288 with 1 Axes>"
            ]
          },
          "metadata": {
            "tags": [],
            "needs_background": "light"
          }
        }
      ]
    },
    {
      "cell_type": "code",
      "metadata": {
        "colab": {
          "base_uri": "https://localhost:8080/",
          "height": 992
        },
        "id": "I2QpC63Ba_TG",
        "outputId": "93a04efa-5d0d-4e05-d734-9b3139a36ac6"
      },
      "source": [
        "#Add dropout layers\n",
        "\n",
        "#create new model\n",
        "drop_model = models.Sequential()\n",
        "drop_model.add(layers.Dense(64, activation='relu', input_shape=(NB_WORDS,)))\n",
        "#sets inputs to 0 at a rate of 0.5 during training\n",
        "drop_model.add(layers.Dropout(0.5))\n",
        "drop_model.add(layers.Dense(64, activation='relu'))\n",
        "drop_model.add(layers.Dropout(0.5))\n",
        "drop_model.add(layers.Dense(3, activation='softmax'))\n",
        "drop_history = deep_model(drop_model, X_train_rest, y_train_rest, X_valid, y_valid)\n",
        "drop_min = optimal_epoch(drop_history)\n",
        "#plot loss\n",
        "eval_metric(drop_model, drop_history, 'loss')\n"
      ],
      "execution_count": 31,
      "outputs": [
        {
          "output_type": "stream",
          "text": [
            "Epoch 1/20\n",
            "24/24 - 2s - loss: 0.8998 - accuracy: 0.6064 - val_loss: 0.7734 - val_accuracy: 0.6138\n",
            "Epoch 2/20\n",
            "24/24 - 1s - loss: 0.7164 - accuracy: 0.6641 - val_loss: 0.6718 - val_accuracy: 0.7231\n",
            "Epoch 3/20\n",
            "24/24 - 1s - loss: 0.6024 - accuracy: 0.7640 - val_loss: 0.5948 - val_accuracy: 0.7754\n",
            "Epoch 4/20\n",
            "24/24 - 1s - loss: 0.5196 - accuracy: 0.8111 - val_loss: 0.5545 - val_accuracy: 0.7906\n",
            "Epoch 5/20\n",
            "24/24 - 1s - loss: 0.4573 - accuracy: 0.8343 - val_loss: 0.5426 - val_accuracy: 0.7860\n",
            "Epoch 6/20\n",
            "24/24 - 1s - loss: 0.4079 - accuracy: 0.8560 - val_loss: 0.5409 - val_accuracy: 0.7891\n",
            "Epoch 7/20\n",
            "24/24 - 1s - loss: 0.3645 - accuracy: 0.8722 - val_loss: 0.5526 - val_accuracy: 0.7906\n",
            "Epoch 8/20\n",
            "24/24 - 1s - loss: 0.3359 - accuracy: 0.8829 - val_loss: 0.5605 - val_accuracy: 0.7944\n",
            "Epoch 9/20\n",
            "24/24 - 1s - loss: 0.3005 - accuracy: 0.8936 - val_loss: 0.5877 - val_accuracy: 0.7914\n",
            "Epoch 10/20\n",
            "24/24 - 1s - loss: 0.2780 - accuracy: 0.9006 - val_loss: 0.5988 - val_accuracy: 0.7891\n",
            "Epoch 11/20\n",
            "24/24 - 1s - loss: 0.2563 - accuracy: 0.9122 - val_loss: 0.6216 - val_accuracy: 0.7815\n",
            "Epoch 12/20\n",
            "24/24 - 1s - loss: 0.2327 - accuracy: 0.9182 - val_loss: 0.6610 - val_accuracy: 0.7883\n",
            "Epoch 13/20\n",
            "24/24 - 1s - loss: 0.2158 - accuracy: 0.9242 - val_loss: 0.6945 - val_accuracy: 0.7800\n",
            "Epoch 14/20\n",
            "24/24 - 1s - loss: 0.1989 - accuracy: 0.9330 - val_loss: 0.7284 - val_accuracy: 0.7830\n",
            "Epoch 15/20\n",
            "24/24 - 1s - loss: 0.1867 - accuracy: 0.9374 - val_loss: 0.7456 - val_accuracy: 0.7830\n",
            "Epoch 16/20\n",
            "24/24 - 1s - loss: 0.1691 - accuracy: 0.9419 - val_loss: 0.7715 - val_accuracy: 0.7792\n",
            "Epoch 17/20\n",
            "24/24 - 1s - loss: 0.1583 - accuracy: 0.9452 - val_loss: 0.8055 - val_accuracy: 0.7769\n",
            "Epoch 18/20\n",
            "24/24 - 1s - loss: 0.1489 - accuracy: 0.9487 - val_loss: 0.8378 - val_accuracy: 0.7822\n",
            "Epoch 19/20\n",
            "24/24 - 1s - loss: 0.1330 - accuracy: 0.9556 - val_loss: 0.8950 - val_accuracy: 0.7792\n",
            "Epoch 20/20\n",
            "24/24 - 1s - loss: 0.1250 - accuracy: 0.9578 - val_loss: 0.9331 - val_accuracy: 0.7800\n",
            "Minimum validation loss reached in epoch 6\n"
          ],
          "name": "stdout"
        },
        {
          "output_type": "display_data",
          "data": {
            "image/png": "[encoded data removed]",
            "text/plain": [
              "<Figure size 432x288 with 1 Axes>"
            ]
          },
          "metadata": {
            "tags": [],
            "needs_background": "light"
          }
        }
      ]
    },
    {
      "cell_type": "code",
      "metadata": {
        "colab": {
          "base_uri": "https://localhost:8080/"
        },
        "id": "37y4ib3Mba5-",
        "outputId": "5d077162-83b2-4f09-dfe8-ddc4a10dfd32"
      },
      "source": [
        "#Utilize full training and test data\n",
        "\n",
        "#combining the base model, reduced layers, regularized model, and dropout layer model to increase test accuracy\n",
        "base_results = test_model(base_model, X_train_oh, y_train_oh, X_test_oh, y_test_oh, base_min)\n",
        "reduced_results = test_model(reduced_model, X_train_oh, y_train_oh, X_test_oh, y_test_oh, reduced_min)\n",
        "reg_results = test_model(reg_model, X_train_oh, y_train_oh, X_test_oh, y_test_oh, reg_min)\n",
        "drop_results = test_model(drop_model, X_train_oh, y_train_oh, X_test_oh, y_test_oh, drop_min)\n",
        "\n",
        "#End test accuracy: 80.33%"
      ],
      "execution_count": 32,
      "outputs": [
        {
          "output_type": "stream",
          "text": [
            "46/46 [==============================] - 0s 2ms/step - loss: 1.5519 - accuracy: 0.7760\n",
            "\n",
            "Test accuracy: 77.60%\n",
            "46/46 [==============================] - 0s 2ms/step - loss: 0.5755 - accuracy: 0.7992\n",
            "\n",
            "Test accuracy: 79.92%\n",
            "46/46 [==============================] - 0s 3ms/step - loss: 0.6965 - accuracy: 0.7992\n",
            "\n",
            "Test accuracy: 79.92%\n",
            "46/46 [==============================] - 0s 2ms/step - loss: 0.7668 - accuracy: 0.8033\n",
            "\n",
            "Test accuracy: 80.33%\n"
          ],
          "name": "stdout"
        }
      ]
    }
  ]
}